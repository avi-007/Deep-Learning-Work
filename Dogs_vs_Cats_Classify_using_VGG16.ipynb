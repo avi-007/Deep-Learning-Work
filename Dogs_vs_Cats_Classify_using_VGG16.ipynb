{
  "nbformat": 4,
  "nbformat_minor": 0,
  "metadata": {
    "colab": {
      "name": "Dogs vs Cats Classify using VGG16",
      "provenance": [],
      "include_colab_link": true
    },
    "kernelspec": {
      "name": "python3",
      "display_name": "Python 3"
    },
    "accelerator": "GPU"
  },
  "cells": [
    {
      "cell_type": "markdown",
      "metadata": {
        "id": "view-in-github",
        "colab_type": "text"
      },
      "source": [
        "<a href=\"https://colab.research.google.com/github/avi-007/Deep-Learning-Work/blob/master/Dogs_vs_Cats_Classify_using_VGG16.ipynb\" target=\"_parent\"><img src=\"https://colab.research.google.com/assets/colab-badge.svg\" alt=\"Open In Colab\"/></a>"
      ]
    },
    {
      "cell_type": "code",
      "metadata": {
        "id": "Dsd_qWAoAQFM",
        "colab_type": "code",
        "colab": {}
      },
      "source": [
        "from keras.applications import VGG16\n",
        "conv_base=VGG16(weights='imagenet',\n",
        "                include_top=False,\n",
        "                input_shape=(150,150,3))"
      ],
      "execution_count": 0,
      "outputs": []
    },
    {
      "cell_type": "code",
      "metadata": {
        "id": "rKZXSKq_UBGT",
        "colab_type": "code",
        "outputId": "7c9acf7a-446d-481f-aef4-58827f35d2a5",
        "colab": {
          "base_uri": "https://localhost:8080/",
          "height": 799
        }
      },
      "source": [
        "conv_base.summary()"
      ],
      "execution_count": 0,
      "outputs": [
        {
          "output_type": "stream",
          "text": [
            "Model: \"vgg16\"\n",
            "_________________________________________________________________\n",
            "Layer (type)                 Output Shape              Param #   \n",
            "=================================================================\n",
            "input_3 (InputLayer)         (None, 150, 150, 3)       0         \n",
            "_________________________________________________________________\n",
            "block1_conv1 (Conv2D)        (None, 150, 150, 64)      1792      \n",
            "_________________________________________________________________\n",
            "block1_conv2 (Conv2D)        (None, 150, 150, 64)      36928     \n",
            "_________________________________________________________________\n",
            "block1_pool (MaxPooling2D)   (None, 75, 75, 64)        0         \n",
            "_________________________________________________________________\n",
            "block2_conv1 (Conv2D)        (None, 75, 75, 128)       73856     \n",
            "_________________________________________________________________\n",
            "block2_conv2 (Conv2D)        (None, 75, 75, 128)       147584    \n",
            "_________________________________________________________________\n",
            "block2_pool (MaxPooling2D)   (None, 37, 37, 128)       0         \n",
            "_________________________________________________________________\n",
            "block3_conv1 (Conv2D)        (None, 37, 37, 256)       295168    \n",
            "_________________________________________________________________\n",
            "block3_conv2 (Conv2D)        (None, 37, 37, 256)       590080    \n",
            "_________________________________________________________________\n",
            "block3_conv3 (Conv2D)        (None, 37, 37, 256)       590080    \n",
            "_________________________________________________________________\n",
            "block3_pool (MaxPooling2D)   (None, 18, 18, 256)       0         \n",
            "_________________________________________________________________\n",
            "block4_conv1 (Conv2D)        (None, 18, 18, 512)       1180160   \n",
            "_________________________________________________________________\n",
            "block4_conv2 (Conv2D)        (None, 18, 18, 512)       2359808   \n",
            "_________________________________________________________________\n",
            "block4_conv3 (Conv2D)        (None, 18, 18, 512)       2359808   \n",
            "_________________________________________________________________\n",
            "block4_pool (MaxPooling2D)   (None, 9, 9, 512)         0         \n",
            "_________________________________________________________________\n",
            "block5_conv1 (Conv2D)        (None, 9, 9, 512)         2359808   \n",
            "_________________________________________________________________\n",
            "block5_conv2 (Conv2D)        (None, 9, 9, 512)         2359808   \n",
            "_________________________________________________________________\n",
            "block5_conv3 (Conv2D)        (None, 9, 9, 512)         2359808   \n",
            "_________________________________________________________________\n",
            "block5_pool (MaxPooling2D)   (None, 4, 4, 512)         0         \n",
            "=================================================================\n",
            "Total params: 14,714,688\n",
            "Trainable params: 14,714,688\n",
            "Non-trainable params: 0\n",
            "_________________________________________________________________\n"
          ],
          "name": "stdout"
        }
      ]
    },
    {
      "cell_type": "code",
      "metadata": {
        "id": "W-B93rVgXm7t",
        "colab_type": "code",
        "outputId": "5b26268a-ba8e-40fe-ec34-b2d9877a0182",
        "colab": {
          "base_uri": "https://localhost:8080/",
          "height": 68
        }
      },
      "source": [
        "import numpy as np\n",
        "from keras.preprocessing.image import ImageDataGenerator\n",
        "\n",
        "\n",
        "base_dir='/content/cats-and-dogs-small'\n",
        "train_dir='/content/cats-and-dogs-small/train'\n",
        "validation_dir='/content/cats-and-dogs-small/validation'\n",
        "test_dir='/content/cats-and-dogs-small/test'\n",
        "\n",
        "datagen=ImageDataGenerator(rescale=1./255)\n",
        "batch_size=20\n",
        "\n",
        "def extract_features(directory,sample_count):\n",
        "  features=np.zeros(shape=(sample_count,4,4,512))\n",
        "  labels=np.zeros(shape=(sample_count))\n",
        "  generator=datagen.flow_from_directory(\n",
        "      directory,\n",
        "      target_size=(150,150),\n",
        "      batch_size=batch_size,\n",
        "      class_mode='binary'\n",
        "  )\n",
        "  i=0\n",
        "  for inputs_batch,labels_batch in generator:\n",
        "      features_batch = conv_base.predict(inputs_batch)\n",
        "      features[i * batch_size : (i + 1) * batch_size] = features_batch\n",
        "      labels[i * batch_size : (i + 1) * batch_size] = labels_batch\n",
        "      i += 1\n",
        "      if i * batch_size >= sample_count:\n",
        "        break\n",
        "  return features,labels\n",
        "train_features,train_labels=extract_features(train_dir,2000)\n",
        "validation_features, validation_labels = extract_features(validation_dir, 1000)\n",
        "test_features, test_labels = extract_features(test_dir, 1000) "
      ],
      "execution_count": 0,
      "outputs": [
        {
          "output_type": "stream",
          "text": [
            "Found 2000 images belonging to 2 classes.\n",
            "Found 1000 images belonging to 2 classes.\n",
            "Found 1000 images belonging to 2 classes.\n"
          ],
          "name": "stdout"
        }
      ]
    },
    {
      "cell_type": "code",
      "metadata": {
        "id": "jyahDQwxNDyJ",
        "colab_type": "code",
        "colab": {}
      },
      "source": [
        "from google.colab import drive\n",
        "drive.mount('/content/drive')"
      ],
      "execution_count": 0,
      "outputs": []
    },
    {
      "cell_type": "code",
      "metadata": {
        "id": "YTJcfDwV4BuF",
        "colab_type": "code",
        "colab": {}
      },
      "source": [
        "train_features = np.reshape(train_features, (2000, 4 * 4 * 512))\n",
        "validation_features = np.reshape(validation_features, (1000, 4 * 4 * 512))\n",
        "test_features = np.reshape(test_features, (1000, 4 * 4 * 512))"
      ],
      "execution_count": 0,
      "outputs": []
    },
    {
      "cell_type": "code",
      "metadata": {
        "id": "qE3FqQXq4Fnq",
        "colab_type": "code",
        "outputId": "1f270673-90c9-4405-9106-b8a8da93cc97",
        "colab": {
          "base_uri": "https://localhost:8080/",
          "height": 1000
        }
      },
      "source": [
        "from keras import models\n",
        "from keras import layers\n",
        "from keras import optimizers\n",
        "model = models.Sequential()\n",
        "model.add(layers.Dense(256, activation='relu', input_dim=4 * 4 * 512))\n",
        "model.add(layers.Dropout(0.5))\n",
        "model.add(layers.Dense(1, activation='sigmoid'))\n",
        "model.compile(optimizer=optimizers.RMSprop(lr=2e-5),\n",
        "              loss='binary_crossentropy',\n",
        "               metrics=['acc'])\n",
        "history = model.fit(train_features, train_labels,\n",
        "                    epochs=30,\n",
        "                    batch_size=20,\n",
        "                    validation_data=(validation_features, validation_labels))"
      ],
      "execution_count": 0,
      "outputs": [
        {
          "output_type": "stream",
          "text": [
            "WARNING:tensorflow:From /usr/local/lib/python3.6/dist-packages/keras/backend/tensorflow_backend.py:148: The name tf.placeholder_with_default is deprecated. Please use tf.compat.v1.placeholder_with_default instead.\n",
            "\n"
          ],
          "name": "stdout"
        },
        {
          "output_type": "stream",
          "text": [
            "WARNING:tensorflow:From /usr/local/lib/python3.6/dist-packages/keras/backend/tensorflow_backend.py:148: The name tf.placeholder_with_default is deprecated. Please use tf.compat.v1.placeholder_with_default instead.\n",
            "\n"
          ],
          "name": "stderr"
        },
        {
          "output_type": "stream",
          "text": [
            "WARNING:tensorflow:From /usr/local/lib/python3.6/dist-packages/keras/backend/tensorflow_backend.py:3733: calling dropout (from tensorflow.python.ops.nn_ops) with keep_prob is deprecated and will be removed in a future version.\n",
            "Instructions for updating:\n",
            "Please use `rate` instead of `keep_prob`. Rate should be set to `rate = 1 - keep_prob`.\n"
          ],
          "name": "stdout"
        },
        {
          "output_type": "stream",
          "text": [
            "WARNING:tensorflow:From /usr/local/lib/python3.6/dist-packages/keras/backend/tensorflow_backend.py:3733: calling dropout (from tensorflow.python.ops.nn_ops) with keep_prob is deprecated and will be removed in a future version.\n",
            "Instructions for updating:\n",
            "Please use `rate` instead of `keep_prob`. Rate should be set to `rate = 1 - keep_prob`.\n"
          ],
          "name": "stderr"
        },
        {
          "output_type": "stream",
          "text": [
            "WARNING:tensorflow:From /usr/local/lib/python3.6/dist-packages/keras/optimizers.py:793: The name tf.train.Optimizer is deprecated. Please use tf.compat.v1.train.Optimizer instead.\n",
            "\n"
          ],
          "name": "stdout"
        },
        {
          "output_type": "stream",
          "text": [
            "WARNING:tensorflow:From /usr/local/lib/python3.6/dist-packages/keras/optimizers.py:793: The name tf.train.Optimizer is deprecated. Please use tf.compat.v1.train.Optimizer instead.\n",
            "\n"
          ],
          "name": "stderr"
        },
        {
          "output_type": "stream",
          "text": [
            "WARNING:tensorflow:From /usr/local/lib/python3.6/dist-packages/keras/backend/tensorflow_backend.py:3657: The name tf.log is deprecated. Please use tf.math.log instead.\n",
            "\n"
          ],
          "name": "stdout"
        },
        {
          "output_type": "stream",
          "text": [
            "WARNING:tensorflow:From /usr/local/lib/python3.6/dist-packages/keras/backend/tensorflow_backend.py:3657: The name tf.log is deprecated. Please use tf.math.log instead.\n",
            "\n"
          ],
          "name": "stderr"
        },
        {
          "output_type": "stream",
          "text": [
            "WARNING:tensorflow:From /usr/local/lib/python3.6/dist-packages/tensorflow_core/python/ops/nn_impl.py:183: where (from tensorflow.python.ops.array_ops) is deprecated and will be removed in a future version.\n",
            "Instructions for updating:\n",
            "Use tf.where in 2.0, which has the same broadcast rule as np.where\n"
          ],
          "name": "stdout"
        },
        {
          "output_type": "stream",
          "text": [
            "WARNING:tensorflow:From /usr/local/lib/python3.6/dist-packages/tensorflow_core/python/ops/nn_impl.py:183: where (from tensorflow.python.ops.array_ops) is deprecated and will be removed in a future version.\n",
            "Instructions for updating:\n",
            "Use tf.where in 2.0, which has the same broadcast rule as np.where\n"
          ],
          "name": "stderr"
        },
        {
          "output_type": "stream",
          "text": [
            "WARNING:tensorflow:From /usr/local/lib/python3.6/dist-packages/keras/backend/tensorflow_backend.py:1033: The name tf.assign_add is deprecated. Please use tf.compat.v1.assign_add instead.\n",
            "\n"
          ],
          "name": "stdout"
        },
        {
          "output_type": "stream",
          "text": [
            "WARNING:tensorflow:From /usr/local/lib/python3.6/dist-packages/keras/backend/tensorflow_backend.py:1033: The name tf.assign_add is deprecated. Please use tf.compat.v1.assign_add instead.\n",
            "\n"
          ],
          "name": "stderr"
        },
        {
          "output_type": "stream",
          "text": [
            "WARNING:tensorflow:From /usr/local/lib/python3.6/dist-packages/keras/backend/tensorflow_backend.py:1020: The name tf.assign is deprecated. Please use tf.compat.v1.assign instead.\n",
            "\n"
          ],
          "name": "stdout"
        },
        {
          "output_type": "stream",
          "text": [
            "WARNING:tensorflow:From /usr/local/lib/python3.6/dist-packages/keras/backend/tensorflow_backend.py:1020: The name tf.assign is deprecated. Please use tf.compat.v1.assign instead.\n",
            "\n"
          ],
          "name": "stderr"
        },
        {
          "output_type": "stream",
          "text": [
            "Train on 2000 samples, validate on 1000 samples\n",
            "Epoch 1/30\n",
            "2000/2000 [==============================] - 1s 562us/step - loss: 0.6054 - acc: 0.6625 - val_loss: 0.4256 - val_acc: 0.8540\n",
            "Epoch 2/30\n",
            "2000/2000 [==============================] - 1s 343us/step - loss: 0.4171 - acc: 0.8150 - val_loss: 0.3499 - val_acc: 0.8770\n",
            "Epoch 3/30\n",
            "2000/2000 [==============================] - 1s 315us/step - loss: 0.3391 - acc: 0.8525 - val_loss: 0.3201 - val_acc: 0.8770\n",
            "Epoch 4/30\n",
            "2000/2000 [==============================] - 1s 383us/step - loss: 0.3098 - acc: 0.8735 - val_loss: 0.2911 - val_acc: 0.8930\n",
            "Epoch 5/30\n",
            "2000/2000 [==============================] - 1s 326us/step - loss: 0.2860 - acc: 0.8900 - val_loss: 0.2780 - val_acc: 0.8960\n",
            "Epoch 6/30\n",
            "2000/2000 [==============================] - 1s 346us/step - loss: 0.2607 - acc: 0.8960 - val_loss: 0.2672 - val_acc: 0.8940\n",
            "Epoch 7/30\n",
            "2000/2000 [==============================] - 1s 328us/step - loss: 0.2487 - acc: 0.9005 - val_loss: 0.2610 - val_acc: 0.8940\n",
            "Epoch 8/30\n",
            "2000/2000 [==============================] - 1s 340us/step - loss: 0.2266 - acc: 0.9165 - val_loss: 0.2568 - val_acc: 0.8910\n",
            "Epoch 9/30\n",
            "2000/2000 [==============================] - 1s 365us/step - loss: 0.2077 - acc: 0.9130 - val_loss: 0.2497 - val_acc: 0.9000\n",
            "Epoch 10/30\n",
            "2000/2000 [==============================] - 1s 312us/step - loss: 0.2018 - acc: 0.9285 - val_loss: 0.2471 - val_acc: 0.9000\n",
            "Epoch 11/30\n",
            "2000/2000 [==============================] - 1s 361us/step - loss: 0.1899 - acc: 0.9290 - val_loss: 0.2510 - val_acc: 0.8960\n",
            "Epoch 12/30\n",
            "2000/2000 [==============================] - 1s 337us/step - loss: 0.1836 - acc: 0.9275 - val_loss: 0.2459 - val_acc: 0.9000\n",
            "Epoch 13/30\n",
            "2000/2000 [==============================] - 1s 312us/step - loss: 0.1721 - acc: 0.9350 - val_loss: 0.2406 - val_acc: 0.9040\n",
            "Epoch 14/30\n",
            "2000/2000 [==============================] - 1s 313us/step - loss: 0.1687 - acc: 0.9410 - val_loss: 0.2425 - val_acc: 0.9010\n",
            "Epoch 15/30\n",
            "2000/2000 [==============================] - 1s 341us/step - loss: 0.1551 - acc: 0.9440 - val_loss: 0.2401 - val_acc: 0.9030\n",
            "Epoch 16/30\n",
            "2000/2000 [==============================] - 1s 351us/step - loss: 0.1556 - acc: 0.9465 - val_loss: 0.2338 - val_acc: 0.9000\n",
            "Epoch 17/30\n",
            "2000/2000 [==============================] - 1s 356us/step - loss: 0.1477 - acc: 0.9460 - val_loss: 0.2321 - val_acc: 0.9030\n",
            "Epoch 18/30\n",
            "2000/2000 [==============================] - 1s 316us/step - loss: 0.1403 - acc: 0.9505 - val_loss: 0.2344 - val_acc: 0.9060\n",
            "Epoch 19/30\n",
            "2000/2000 [==============================] - 1s 331us/step - loss: 0.1387 - acc: 0.9460 - val_loss: 0.2333 - val_acc: 0.9050\n",
            "Epoch 20/30\n",
            "2000/2000 [==============================] - 1s 316us/step - loss: 0.1253 - acc: 0.9555 - val_loss: 0.2314 - val_acc: 0.9050\n",
            "Epoch 21/30\n",
            "2000/2000 [==============================] - 1s 360us/step - loss: 0.1225 - acc: 0.9550 - val_loss: 0.2315 - val_acc: 0.9060\n",
            "Epoch 22/30\n",
            "2000/2000 [==============================] - 1s 326us/step - loss: 0.1201 - acc: 0.9610 - val_loss: 0.2309 - val_acc: 0.9070\n",
            "Epoch 23/30\n",
            "2000/2000 [==============================] - 1s 315us/step - loss: 0.1187 - acc: 0.9610 - val_loss: 0.2318 - val_acc: 0.9060\n",
            "Epoch 24/30\n",
            "2000/2000 [==============================] - 1s 323us/step - loss: 0.1098 - acc: 0.9595 - val_loss: 0.2333 - val_acc: 0.9080\n",
            "Epoch 25/30\n",
            "2000/2000 [==============================] - 1s 311us/step - loss: 0.1073 - acc: 0.9630 - val_loss: 0.2343 - val_acc: 0.9060\n",
            "Epoch 26/30\n",
            "2000/2000 [==============================] - 1s 321us/step - loss: 0.1007 - acc: 0.9665 - val_loss: 0.2350 - val_acc: 0.9080\n",
            "Epoch 27/30\n",
            "2000/2000 [==============================] - 1s 319us/step - loss: 0.0961 - acc: 0.9745 - val_loss: 0.2327 - val_acc: 0.9080\n",
            "Epoch 28/30\n",
            "2000/2000 [==============================] - 1s 331us/step - loss: 0.0923 - acc: 0.9715 - val_loss: 0.2507 - val_acc: 0.8950\n",
            "Epoch 29/30\n",
            "2000/2000 [==============================] - 1s 328us/step - loss: 0.0870 - acc: 0.9740 - val_loss: 0.2339 - val_acc: 0.9100\n",
            "Epoch 30/30\n",
            "2000/2000 [==============================] - 1s 326us/step - loss: 0.0898 - acc: 0.9735 - val_loss: 0.2353 - val_acc: 0.9090\n"
          ],
          "name": "stdout"
        }
      ]
    },
    {
      "cell_type": "code",
      "metadata": {
        "id": "rTMyCC354iOo",
        "colab_type": "code",
        "outputId": "11b9edf9-e0ce-43aa-fd64-ea689dd75451",
        "colab": {
          "base_uri": "https://localhost:8080/",
          "height": 545
        }
      },
      "source": [
        "import matplotlib.pyplot as plt\n",
        "acc=history.history['acc']\n",
        "val_acc=history.history['val_acc']\n",
        "loss=history.history['loss']\n",
        "val_loss=history.history['val_loss']\n",
        "\n",
        "epochs=range(len(acc))\n",
        "plt.plot(epochs, acc, 'bo', label='Training acc')\n",
        "plt.plot(epochs, val_acc, 'b', label='Validation acc')\n",
        "plt.title('Training and validation accuracy')\n",
        "plt.legend()\n",
        "plt.figure()\n",
        "plt.plot(epochs, loss, 'bo', label='Training loss')\n",
        "plt.plot(epochs, val_loss, 'b', label='Validation loss')\n",
        "plt.title('Training and validation loss')\n",
        "plt.legend()\n",
        "plt.show()"
      ],
      "execution_count": 0,
      "outputs": [
        {
          "output_type": "display_data",
          "data": {
            "image/png": "[encoded data removed]",
            "text/plain": [
              "<Figure size 432x288 with 1 Axes>"
            ]
          },
          "metadata": {
            "tags": []
          }
        },
        {
          "output_type": "display_data",
          "data": {
            "image/png": "[encoded data removed]",
            "text/plain": [
              "<Figure size 432x288 with 1 Axes>"
            ]
          },
          "metadata": {
            "tags": []
          }
        }
      ]
    },
    {
      "cell_type": "code",
      "metadata": {
        "id": "uyIiCBtv5WWf",
        "colab_type": "code",
        "colab": {}
      },
      "source": [
        "from keras import models\n",
        "from keras import layers\n",
        "model = models.Sequential()\n",
        "model.add(conv_base)\n",
        "model.add(layers.Flatten())\n",
        "model.add(layers.Dense(256, activation='relu'))\n",
        "model.add(layers.Dense(1, activation='sigmoid'))"
      ],
      "execution_count": 0,
      "outputs": []
    },
    {
      "cell_type": "code",
      "metadata": {
        "id": "YujN93S86GXd",
        "colab_type": "code",
        "outputId": "4ee483b0-8920-4d3f-e853-a51dba9e5b37",
        "colab": {
          "base_uri": "https://localhost:8080/",
          "height": 289
        }
      },
      "source": [
        "model.summary()"
      ],
      "execution_count": 0,
      "outputs": [
        {
          "output_type": "stream",
          "text": [
            "Model: \"sequential_2\"\n",
            "_________________________________________________________________\n",
            "Layer (type)                 Output Shape              Param #   \n",
            "=================================================================\n",
            "vgg16 (Model)                (None, 4, 4, 512)         14714688  \n",
            "_________________________________________________________________\n",
            "flatten_1 (Flatten)          (None, 8192)              0         \n",
            "_________________________________________________________________\n",
            "dense_3 (Dense)              (None, 256)               2097408   \n",
            "_________________________________________________________________\n",
            "dense_4 (Dense)              (None, 1)                 257       \n",
            "=================================================================\n",
            "Total params: 16,812,353\n",
            "Trainable params: 16,812,353\n",
            "Non-trainable params: 0\n",
            "_________________________________________________________________\n"
          ],
          "name": "stdout"
        }
      ]
    },
    {
      "cell_type": "code",
      "metadata": {
        "id": "ANWyqyYa6LWD",
        "colab_type": "code",
        "outputId": "0ee327d7-4ce8-4fed-a9d1-5e93503d7bf2",
        "colab": {
          "base_uri": "https://localhost:8080/",
          "height": 34
        }
      },
      "source": [
        "print('This is the number of trainable weights '\n",
        "'before freezing the conv base:', len(model.trainable_weights))"
      ],
      "execution_count": 0,
      "outputs": [
        {
          "output_type": "stream",
          "text": [
            "This is the number of trainable weights before freezing the conv base: 30\n"
          ],
          "name": "stdout"
        }
      ]
    },
    {
      "cell_type": "code",
      "metadata": {
        "id": "d9ZC-Dep6ZqK",
        "colab_type": "code",
        "colab": {}
      },
      "source": [
        "conv_base.trainable = False"
      ],
      "execution_count": 0,
      "outputs": []
    },
    {
      "cell_type": "code",
      "metadata": {
        "id": "xwzDWsGl6eTn",
        "colab_type": "code",
        "outputId": "d8a3b66b-7132-4f61-e328-0ba61b1d164f",
        "colab": {
          "base_uri": "https://localhost:8080/",
          "height": 34
        }
      },
      "source": [
        "print('This is the number of trainable weights '\n",
        "'after freezing the conv base:', len(model.trainable_weights))"
      ],
      "execution_count": 0,
      "outputs": [
        {
          "output_type": "stream",
          "text": [
            "This is the number of trainable weights after freezing the conv base: 4\n"
          ],
          "name": "stdout"
        }
      ]
    },
    {
      "cell_type": "code",
      "metadata": {
        "id": "bG7Ppjt46iL8",
        "colab_type": "code",
        "outputId": "5e04d48e-0664-4620-903e-1c1fecf43a5d",
        "colab": {
          "base_uri": "https://localhost:8080/",
          "height": 1000
        }
      },
      "source": [
        "from keras.preprocessing.image import ImageDataGenerator\n",
        "from keras import optimizers\n",
        "train_datagen = ImageDataGenerator(\n",
        "                rescale=1./255,\n",
        "                rotation_range=40,\n",
        "                width_shift_range=0.2,\n",
        "                height_shift_range=0.2,\n",
        "                shear_range=0.2,\n",
        "                zoom_range=0.2,\n",
        "                horizontal_flip=True,\n",
        "                fill_mode='nearest')\n",
        "              \n",
        "\n",
        "test_datagen = ImageDataGenerator(rescale=1./255)\n",
        "train_generator = train_datagen.flow_from_directory(\n",
        "                  train_dir,\n",
        "                  target_size=(150, 150),\n",
        "                  batch_size=20,\n",
        "                  class_mode='binary')\n",
        "validation_generator = test_datagen.flow_from_directory(\n",
        "                        validation_dir,\n",
        "                        target_size=(150, 150),\n",
        "                        batch_size=20,\n",
        "                        class_mode='binary')\n",
        "model.compile(loss='binary_crossentropy',\n",
        "              optimizer=optimizers.RMSprop(lr=2e-5),\n",
        "              metrics=['acc'])\n",
        "history = model.fit_generator(\n",
        "              train_generator,\n",
        "              steps_per_epoch=100,\n",
        "              epochs=30,\n",
        "              validation_data=validation_generator,\n",
        "              validation_steps=50)"
      ],
      "execution_count": 0,
      "outputs": [
        {
          "output_type": "stream",
          "text": [
            "Found 2000 images belonging to 2 classes.\n",
            "Found 1000 images belonging to 2 classes.\n",
            "Epoch 1/30\n",
            "100/100 [==============================] - 21s 208ms/step - loss: 0.5914 - acc: 0.6915 - val_loss: 0.4696 - val_acc: 0.7990\n",
            "Epoch 2/30\n",
            "100/100 [==============================] - 19s 187ms/step - loss: 0.4859 - acc: 0.7765 - val_loss: 0.4006 - val_acc: 0.8320\n",
            "Epoch 3/30\n",
            "100/100 [==============================] - 19s 186ms/step - loss: 0.4371 - acc: 0.8050 - val_loss: 0.3438 - val_acc: 0.8630\n",
            "Epoch 4/30\n",
            "100/100 [==============================] - 19s 190ms/step - loss: 0.4042 - acc: 0.8250 - val_loss: 0.3102 - val_acc: 0.8760\n",
            "Epoch 5/30\n",
            "100/100 [==============================] - 19s 189ms/step - loss: 0.3823 - acc: 0.8370 - val_loss: 0.2983 - val_acc: 0.8730\n",
            "Epoch 6/30\n",
            "100/100 [==============================] - 19s 188ms/step - loss: 0.3807 - acc: 0.8370 - val_loss: 0.2869 - val_acc: 0.8820\n",
            "Epoch 7/30\n",
            "100/100 [==============================] - 19s 185ms/step - loss: 0.3581 - acc: 0.8445 - val_loss: 0.2879 - val_acc: 0.8730\n",
            "Epoch 8/30\n",
            "100/100 [==============================] - 18s 183ms/step - loss: 0.3461 - acc: 0.8450 - val_loss: 0.2735 - val_acc: 0.8850\n",
            "Epoch 9/30\n",
            "100/100 [==============================] - 18s 183ms/step - loss: 0.3300 - acc: 0.8575 - val_loss: 0.2688 - val_acc: 0.8880\n",
            "Epoch 10/30\n",
            "100/100 [==============================] - 18s 183ms/step - loss: 0.3358 - acc: 0.8545 - val_loss: 0.2627 - val_acc: 0.8930\n",
            "Epoch 11/30\n",
            "100/100 [==============================] - 18s 183ms/step - loss: 0.3345 - acc: 0.8530 - val_loss: 0.2562 - val_acc: 0.8920\n",
            "Epoch 12/30\n",
            "100/100 [==============================] - 18s 182ms/step - loss: 0.3324 - acc: 0.8545 - val_loss: 0.2560 - val_acc: 0.8920\n",
            "Epoch 13/30\n",
            "100/100 [==============================] - 19s 186ms/step - loss: 0.3154 - acc: 0.8655 - val_loss: 0.2561 - val_acc: 0.8910\n",
            "Epoch 14/30\n",
            "100/100 [==============================] - 18s 184ms/step - loss: 0.3143 - acc: 0.8730 - val_loss: 0.2511 - val_acc: 0.8980\n",
            "Epoch 15/30\n",
            "100/100 [==============================] - 18s 185ms/step - loss: 0.3092 - acc: 0.8660 - val_loss: 0.2583 - val_acc: 0.8960\n",
            "Epoch 16/30\n",
            "100/100 [==============================] - 18s 184ms/step - loss: 0.3112 - acc: 0.8665 - val_loss: 0.2477 - val_acc: 0.9030\n",
            "Epoch 17/30\n",
            "100/100 [==============================] - 18s 184ms/step - loss: 0.3259 - acc: 0.8530 - val_loss: 0.2566 - val_acc: 0.8950\n",
            "Epoch 18/30\n",
            "100/100 [==============================] - 18s 183ms/step - loss: 0.2940 - acc: 0.8655 - val_loss: 0.2468 - val_acc: 0.9020\n",
            "Epoch 19/30\n",
            "100/100 [==============================] - 19s 185ms/step - loss: 0.3081 - acc: 0.8635 - val_loss: 0.2485 - val_acc: 0.8960\n",
            "Epoch 20/30\n",
            "100/100 [==============================] - 18s 184ms/step - loss: 0.3020 - acc: 0.8700 - val_loss: 0.2451 - val_acc: 0.9030\n",
            "Epoch 21/30\n",
            "100/100 [==============================] - 18s 185ms/step - loss: 0.2894 - acc: 0.8720 - val_loss: 0.2454 - val_acc: 0.9040\n",
            "Epoch 22/30\n",
            "100/100 [==============================] - 18s 185ms/step - loss: 0.2931 - acc: 0.8745 - val_loss: 0.2531 - val_acc: 0.8940\n",
            "Epoch 23/30\n",
            "100/100 [==============================] - 18s 183ms/step - loss: 0.2867 - acc: 0.8760 - val_loss: 0.2568 - val_acc: 0.8960\n",
            "Epoch 24/30\n",
            "100/100 [==============================] - 18s 183ms/step - loss: 0.2856 - acc: 0.8765 - val_loss: 0.2433 - val_acc: 0.9020\n",
            "Epoch 25/30\n",
            "100/100 [==============================] - 18s 184ms/step - loss: 0.2876 - acc: 0.8730 - val_loss: 0.2437 - val_acc: 0.9010\n",
            "Epoch 26/30\n",
            "100/100 [==============================] - 18s 183ms/step - loss: 0.2923 - acc: 0.8735 - val_loss: 0.2441 - val_acc: 0.8960\n",
            "Epoch 27/30\n",
            "100/100 [==============================] - 18s 182ms/step - loss: 0.2689 - acc: 0.8795 - val_loss: 0.2553 - val_acc: 0.8930\n",
            "Epoch 28/30\n",
            "100/100 [==============================] - 18s 183ms/step - loss: 0.2804 - acc: 0.8850 - val_loss: 0.2824 - val_acc: 0.8830\n",
            "Epoch 29/30\n",
            "100/100 [==============================] - 18s 182ms/step - loss: 0.2891 - acc: 0.8770 - val_loss: 0.2455 - val_acc: 0.9040\n",
            "Epoch 30/30\n",
            "100/100 [==============================] - 18s 185ms/step - loss: 0.2820 - acc: 0.8820 - val_loss: 0.2413 - val_acc: 0.9030\n"
          ],
          "name": "stdout"
        }
      ]
    },
    {
      "cell_type": "code",
      "metadata": {
        "colab_type": "code",
        "id": "Z2rMhCy2GAkn",
        "outputId": "4e31f06e-1622-4697-8582-ba79e5a71680",
        "colab": {
          "base_uri": "https://localhost:8080/",
          "height": 545
        }
      },
      "source": [
        "acc=history.history['acc']\n",
        "val_acc=history.history['val_acc']\n",
        "loss=history.history['loss']\n",
        "val_loss=history.history['val_loss']\n",
        "\n",
        "epochs=range(len(acc))\n",
        "plt.plot(epochs, acc, 'bo', label='Training acc')\n",
        "plt.plot(epochs, val_acc, 'b', label='Validation acc')\n",
        "plt.title('Training and validation accuracy')\n",
        "plt.legend()\n",
        "plt.figure()\n",
        "plt.plot(epochs, loss, 'bo', label='Training loss')\n",
        "plt.plot(epochs, val_loss, 'b', label='Validation loss')\n",
        "plt.title('Training and validation loss')\n",
        "plt.legend()\n",
        "plt.show()"
      ],
      "execution_count": 0,
      "outputs": [
        {
          "output_type": "display_data",
          "data": {
            "image/png": "[encoded data removed]",
            "text/plain": [
              "<Figure size 432x288 with 1 Axes>"
            ]
          },
          "metadata": {
            "tags": []
          }
        },
        {
          "output_type": "display_data",
          "data": {
            "image/png": "[encoded data removed]",
            "text/plain": [
              "<Figure size 432x288 with 1 Axes>"
            ]
          },
          "metadata": {
            "tags": []
          }
        }
      ]
    },
    {
      "cell_type": "code",
      "metadata": {
        "id": "it-5a7KHwy7h",
        "colab_type": "code",
        "outputId": "e694dbb6-5b6a-469d-d820-daa058c2a11e",
        "colab": {
          "base_uri": "https://localhost:8080/",
          "height": 799
        }
      },
      "source": [
        "conv_base.summary()"
      ],
      "execution_count": 0,
      "outputs": [
        {
          "output_type": "stream",
          "text": [
            "Model: \"vgg16\"\n",
            "_________________________________________________________________\n",
            "Layer (type)                 Output Shape              Param #   \n",
            "=================================================================\n",
            "input_3 (InputLayer)         (None, 150, 150, 3)       0         \n",
            "_________________________________________________________________\n",
            "block1_conv1 (Conv2D)        (None, 150, 150, 64)      1792      \n",
            "_________________________________________________________________\n",
            "block1_conv2 (Conv2D)        (None, 150, 150, 64)      36928     \n",
            "_________________________________________________________________\n",
            "block1_pool (MaxPooling2D)   (None, 75, 75, 64)        0         \n",
            "_________________________________________________________________\n",
            "block2_conv1 (Conv2D)        (None, 75, 75, 128)       73856     \n",
            "_________________________________________________________________\n",
            "block2_conv2 (Conv2D)        (None, 75, 75, 128)       147584    \n",
            "_________________________________________________________________\n",
            "block2_pool (MaxPooling2D)   (None, 37, 37, 128)       0         \n",
            "_________________________________________________________________\n",
            "block3_conv1 (Conv2D)        (None, 37, 37, 256)       295168    \n",
            "_________________________________________________________________\n",
            "block3_conv2 (Conv2D)        (None, 37, 37, 256)       590080    \n",
            "_________________________________________________________________\n",
            "block3_conv3 (Conv2D)        (None, 37, 37, 256)       590080    \n",
            "_________________________________________________________________\n",
            "block3_pool (MaxPooling2D)   (None, 18, 18, 256)       0         \n",
            "_________________________________________________________________\n",
            "block4_conv1 (Conv2D)        (None, 18, 18, 512)       1180160   \n",
            "_________________________________________________________________\n",
            "block4_conv2 (Conv2D)        (None, 18, 18, 512)       2359808   \n",
            "_________________________________________________________________\n",
            "block4_conv3 (Conv2D)        (None, 18, 18, 512)       2359808   \n",
            "_________________________________________________________________\n",
            "block4_pool (MaxPooling2D)   (None, 9, 9, 512)         0         \n",
            "_________________________________________________________________\n",
            "block5_conv1 (Conv2D)        (None, 9, 9, 512)         2359808   \n",
            "_________________________________________________________________\n",
            "block5_conv2 (Conv2D)        (None, 9, 9, 512)         2359808   \n",
            "_________________________________________________________________\n",
            "block5_conv3 (Conv2D)        (None, 9, 9, 512)         2359808   \n",
            "_________________________________________________________________\n",
            "block5_pool (MaxPooling2D)   (None, 4, 4, 512)         0         \n",
            "=================================================================\n",
            "Total params: 14,714,688\n",
            "Trainable params: 0\n",
            "Non-trainable params: 14,714,688\n",
            "_________________________________________________________________\n"
          ],
          "name": "stdout"
        }
      ]
    },
    {
      "cell_type": "code",
      "metadata": {
        "id": "LbB-AERxxpxK",
        "colab_type": "code",
        "colab": {}
      },
      "source": [
        "conv_base.trainable = True\n",
        "set_trainable = False\n",
        "for layer in conv_base.layers:\n",
        "  if layer.name == 'block5_conv1':\n",
        "    set_trainable = True\n",
        "  if set_trainable:\n",
        "    layer.trainable = True\n",
        "  else:\n",
        "    layer.trainable = False"
      ],
      "execution_count": 0,
      "outputs": []
    },
    {
      "cell_type": "code",
      "metadata": {
        "id": "efT0NtK2yYhq",
        "colab_type": "code",
        "outputId": "5d2baa66-f1d9-4d56-fe79-c6f55c9fcf4d",
        "colab": {
          "base_uri": "https://localhost:8080/",
          "height": 1000
        }
      },
      "source": [
        "model.compile(loss='binary_crossentropy',\n",
        "              optimizer=optimizers.RMSprop(lr=1e-5),\n",
        "              metrics=['acc'])\n",
        "history = model.fit_generator(\n",
        "            train_generator,\n",
        "            steps_per_epoch=100,\n",
        "            epochs=100,\n",
        "            validation_data=validation_generator,\n",
        "            validation_steps=50)"
      ],
      "execution_count": 0,
      "outputs": [
        {
          "output_type": "stream",
          "text": [
            "Epoch 1/100\n",
            "100/100 [==============================] - 21s 209ms/step - loss: 0.2969 - acc: 0.8730 - val_loss: 0.2357 - val_acc: 0.9000\n",
            "Epoch 2/100\n",
            "100/100 [==============================] - 19s 187ms/step - loss: 0.2600 - acc: 0.8915 - val_loss: 0.2098 - val_acc: 0.9180\n",
            "Epoch 3/100\n",
            "100/100 [==============================] - 19s 187ms/step - loss: 0.2440 - acc: 0.8960 - val_loss: 0.2130 - val_acc: 0.9120\n",
            "Epoch 4/100\n",
            "100/100 [==============================] - 18s 185ms/step - loss: 0.2377 - acc: 0.9010 - val_loss: 0.2268 - val_acc: 0.9140\n",
            "Epoch 5/100\n",
            "100/100 [==============================] - 19s 188ms/step - loss: 0.2086 - acc: 0.9110 - val_loss: 0.2581 - val_acc: 0.9010\n",
            "Epoch 6/100\n",
            "100/100 [==============================] - 19s 187ms/step - loss: 0.1975 - acc: 0.9230 - val_loss: 0.1840 - val_acc: 0.9250\n",
            "Epoch 7/100\n",
            "100/100 [==============================] - 19s 187ms/step - loss: 0.2075 - acc: 0.9115 - val_loss: 0.1882 - val_acc: 0.9270\n",
            "Epoch 8/100\n",
            "100/100 [==============================] - 19s 188ms/step - loss: 0.1870 - acc: 0.9230 - val_loss: 0.1958 - val_acc: 0.9300\n",
            "Epoch 9/100\n",
            "100/100 [==============================] - 19s 187ms/step - loss: 0.1516 - acc: 0.9390 - val_loss: 0.2231 - val_acc: 0.9250\n",
            "Epoch 10/100\n",
            "100/100 [==============================] - 19s 186ms/step - loss: 0.1481 - acc: 0.9330 - val_loss: 0.1938 - val_acc: 0.9290\n",
            "Epoch 11/100\n",
            "100/100 [==============================] - 19s 186ms/step - loss: 0.1418 - acc: 0.9445 - val_loss: 0.2090 - val_acc: 0.9310\n",
            "Epoch 12/100\n",
            "100/100 [==============================] - 19s 186ms/step - loss: 0.1385 - acc: 0.9435 - val_loss: 0.1798 - val_acc: 0.9350\n",
            "Epoch 13/100\n",
            "100/100 [==============================] - 19s 187ms/step - loss: 0.1450 - acc: 0.9430 - val_loss: 0.1746 - val_acc: 0.9320\n",
            "Epoch 14/100\n",
            "100/100 [==============================] - 19s 188ms/step - loss: 0.1378 - acc: 0.9390 - val_loss: 0.1788 - val_acc: 0.9410\n",
            "Epoch 15/100\n",
            "100/100 [==============================] - 19s 187ms/step - loss: 0.1187 - acc: 0.9545 - val_loss: 0.2159 - val_acc: 0.9320\n",
            "Epoch 16/100\n",
            "100/100 [==============================] - 19s 186ms/step - loss: 0.1169 - acc: 0.9540 - val_loss: 0.2835 - val_acc: 0.9150\n",
            "Epoch 17/100\n",
            "100/100 [==============================] - 19s 186ms/step - loss: 0.1074 - acc: 0.9605 - val_loss: 0.1864 - val_acc: 0.9420\n",
            "Epoch 18/100\n",
            "100/100 [==============================] - 19s 187ms/step - loss: 0.1053 - acc: 0.9610 - val_loss: 0.2217 - val_acc: 0.9250\n",
            "Epoch 19/100\n",
            "100/100 [==============================] - 19s 188ms/step - loss: 0.1099 - acc: 0.9535 - val_loss: 0.1881 - val_acc: 0.9340\n",
            "Epoch 20/100\n",
            "100/100 [==============================] - 19s 186ms/step - loss: 0.0856 - acc: 0.9625 - val_loss: 0.1819 - val_acc: 0.9360\n",
            "Epoch 21/100\n",
            "100/100 [==============================] - 19s 188ms/step - loss: 0.0915 - acc: 0.9670 - val_loss: 0.1813 - val_acc: 0.9330\n",
            "Epoch 22/100\n",
            "100/100 [==============================] - 19s 187ms/step - loss: 0.0853 - acc: 0.9680 - val_loss: 0.1945 - val_acc: 0.9390\n",
            "Epoch 23/100\n",
            "100/100 [==============================] - 19s 186ms/step - loss: 0.0868 - acc: 0.9660 - val_loss: 0.1873 - val_acc: 0.9370\n",
            "Epoch 24/100\n",
            "100/100 [==============================] - 19s 186ms/step - loss: 0.0848 - acc: 0.9660 - val_loss: 0.1833 - val_acc: 0.9370\n",
            "Epoch 25/100\n",
            "100/100 [==============================] - 19s 189ms/step - loss: 0.0758 - acc: 0.9685 - val_loss: 0.1928 - val_acc: 0.9430\n",
            "Epoch 26/100\n",
            "100/100 [==============================] - 19s 190ms/step - loss: 0.0733 - acc: 0.9745 - val_loss: 0.1855 - val_acc: 0.9370\n",
            "Epoch 27/100\n",
            "100/100 [==============================] - 19s 190ms/step - loss: 0.0720 - acc: 0.9750 - val_loss: 0.2275 - val_acc: 0.9370\n",
            "Epoch 28/100\n",
            "100/100 [==============================] - 19s 192ms/step - loss: 0.0748 - acc: 0.9730 - val_loss: 0.1801 - val_acc: 0.9300\n",
            "Epoch 29/100\n",
            "100/100 [==============================] - 19s 193ms/step - loss: 0.0762 - acc: 0.9710 - val_loss: 0.1749 - val_acc: 0.9380\n",
            "Epoch 30/100\n",
            "100/100 [==============================] - 19s 194ms/step - loss: 0.0560 - acc: 0.9745 - val_loss: 0.1714 - val_acc: 0.9380\n",
            "Epoch 31/100\n",
            "100/100 [==============================] - 20s 195ms/step - loss: 0.0677 - acc: 0.9765 - val_loss: 0.2072 - val_acc: 0.9410\n",
            "Epoch 32/100\n",
            "100/100 [==============================] - 19s 194ms/step - loss: 0.0617 - acc: 0.9770 - val_loss: 0.2145 - val_acc: 0.9270\n",
            "Epoch 33/100\n",
            "100/100 [==============================] - 19s 193ms/step - loss: 0.0719 - acc: 0.9735 - val_loss: 0.2314 - val_acc: 0.9340\n",
            "Epoch 34/100\n",
            "100/100 [==============================] - 19s 194ms/step - loss: 0.0659 - acc: 0.9755 - val_loss: 0.2077 - val_acc: 0.9220\n",
            "Epoch 35/100\n",
            "100/100 [==============================] - 19s 193ms/step - loss: 0.0593 - acc: 0.9780 - val_loss: 0.2807 - val_acc: 0.9270\n",
            "Epoch 36/100\n",
            "100/100 [==============================] - 20s 196ms/step - loss: 0.0618 - acc: 0.9800 - val_loss: 0.4502 - val_acc: 0.8940\n",
            "Epoch 37/100\n",
            "100/100 [==============================] - 20s 196ms/step - loss: 0.0661 - acc: 0.9730 - val_loss: 0.1853 - val_acc: 0.9430\n",
            "Epoch 38/100\n",
            "100/100 [==============================] - 20s 195ms/step - loss: 0.0539 - acc: 0.9815 - val_loss: 0.2088 - val_acc: 0.9360\n",
            "Epoch 39/100\n",
            "100/100 [==============================] - 20s 196ms/step - loss: 0.0474 - acc: 0.9830 - val_loss: 0.2348 - val_acc: 0.9280\n",
            "Epoch 40/100\n",
            "100/100 [==============================] - 20s 196ms/step - loss: 0.0551 - acc: 0.9775 - val_loss: 0.1915 - val_acc: 0.9420\n",
            "Epoch 41/100\n",
            "100/100 [==============================] - 20s 197ms/step - loss: 0.0450 - acc: 0.9845 - val_loss: 0.3414 - val_acc: 0.9200\n",
            "Epoch 42/100\n",
            "100/100 [==============================] - 20s 197ms/step - loss: 0.0448 - acc: 0.9845 - val_loss: 0.2259 - val_acc: 0.9370\n",
            "Epoch 43/100\n",
            "100/100 [==============================] - 20s 196ms/step - loss: 0.0393 - acc: 0.9860 - val_loss: 0.2716 - val_acc: 0.9310\n",
            "Epoch 44/100\n",
            "100/100 [==============================] - 20s 200ms/step - loss: 0.0431 - acc: 0.9855 - val_loss: 0.2763 - val_acc: 0.9330\n",
            "Epoch 45/100\n",
            "100/100 [==============================] - 20s 197ms/step - loss: 0.0453 - acc: 0.9810 - val_loss: 0.2484 - val_acc: 0.9370\n",
            "Epoch 46/100\n",
            "100/100 [==============================] - 20s 199ms/step - loss: 0.0465 - acc: 0.9820 - val_loss: 0.2951 - val_acc: 0.9270\n",
            "Epoch 47/100\n",
            "100/100 [==============================] - 20s 197ms/step - loss: 0.0382 - acc: 0.9900 - val_loss: 0.2716 - val_acc: 0.9340\n",
            "Epoch 48/100\n",
            "100/100 [==============================] - 20s 197ms/step - loss: 0.0401 - acc: 0.9865 - val_loss: 0.2197 - val_acc: 0.9380\n",
            "Epoch 49/100\n",
            "100/100 [==============================] - 20s 197ms/step - loss: 0.0252 - acc: 0.9905 - val_loss: 0.2195 - val_acc: 0.9360\n",
            "Epoch 50/100\n",
            "100/100 [==============================] - 20s 196ms/step - loss: 0.0372 - acc: 0.9895 - val_loss: 0.2036 - val_acc: 0.9390\n",
            "Epoch 51/100\n",
            "100/100 [==============================] - 20s 197ms/step - loss: 0.0408 - acc: 0.9840 - val_loss: 0.2845 - val_acc: 0.9310\n",
            "Epoch 52/100\n",
            "100/100 [==============================] - 20s 198ms/step - loss: 0.0278 - acc: 0.9905 - val_loss: 0.3563 - val_acc: 0.9140\n",
            "Epoch 53/100\n",
            "100/100 [==============================] - 20s 197ms/step - loss: 0.0489 - acc: 0.9800 - val_loss: 0.2382 - val_acc: 0.9380\n",
            "Epoch 54/100\n",
            "100/100 [==============================] - 19s 194ms/step - loss: 0.0324 - acc: 0.9870 - val_loss: 0.2240 - val_acc: 0.9400\n",
            "Epoch 55/100\n",
            "100/100 [==============================] - 20s 196ms/step - loss: 0.0475 - acc: 0.9850 - val_loss: 0.2561 - val_acc: 0.9360\n",
            "Epoch 56/100\n",
            "100/100 [==============================] - 20s 198ms/step - loss: 0.0344 - acc: 0.9875 - val_loss: 0.2327 - val_acc: 0.9430\n",
            "Epoch 57/100\n",
            "100/100 [==============================] - 20s 198ms/step - loss: 0.0393 - acc: 0.9855 - val_loss: 0.2256 - val_acc: 0.9350\n",
            "Epoch 58/100\n",
            "100/100 [==============================] - 20s 199ms/step - loss: 0.0305 - acc: 0.9880 - val_loss: 0.2190 - val_acc: 0.9380\n",
            "Epoch 59/100\n",
            "100/100 [==============================] - 20s 197ms/step - loss: 0.0282 - acc: 0.9925 - val_loss: 0.1893 - val_acc: 0.9400\n",
            "Epoch 60/100\n",
            "100/100 [==============================] - 20s 197ms/step - loss: 0.0276 - acc: 0.9920 - val_loss: 0.2089 - val_acc: 0.9400\n",
            "Epoch 61/100\n",
            "100/100 [==============================] - 20s 200ms/step - loss: 0.0327 - acc: 0.9890 - val_loss: 0.3238 - val_acc: 0.9330\n",
            "Epoch 62/100\n",
            "100/100 [==============================] - 20s 200ms/step - loss: 0.0320 - acc: 0.9865 - val_loss: 0.2285 - val_acc: 0.9370\n",
            "Epoch 63/100\n",
            "100/100 [==============================] - 20s 197ms/step - loss: 0.0235 - acc: 0.9925 - val_loss: 0.2752 - val_acc: 0.9340\n",
            "Epoch 64/100\n",
            "100/100 [==============================] - 20s 197ms/step - loss: 0.0313 - acc: 0.9905 - val_loss: 0.2448 - val_acc: 0.9390\n",
            "Epoch 65/100\n",
            "100/100 [==============================] - 20s 198ms/step - loss: 0.0332 - acc: 0.9875 - val_loss: 0.3366 - val_acc: 0.9290\n",
            "Epoch 66/100\n",
            "100/100 [==============================] - 20s 196ms/step - loss: 0.0297 - acc: 0.9920 - val_loss: 0.2551 - val_acc: 0.9370\n",
            "Epoch 67/100\n",
            "100/100 [==============================] - 20s 199ms/step - loss: 0.0254 - acc: 0.9915 - val_loss: 0.3223 - val_acc: 0.9340\n",
            "Epoch 68/100\n",
            "100/100 [==============================] - 20s 197ms/step - loss: 0.0320 - acc: 0.9870 - val_loss: 0.2164 - val_acc: 0.9400\n",
            "Epoch 69/100\n",
            "100/100 [==============================] - 20s 196ms/step - loss: 0.0220 - acc: 0.9935 - val_loss: 0.2724 - val_acc: 0.9350\n",
            "Epoch 70/100\n",
            "100/100 [==============================] - 20s 200ms/step - loss: 0.0258 - acc: 0.9890 - val_loss: 0.2248 - val_acc: 0.9440\n",
            "Epoch 71/100\n",
            "100/100 [==============================] - 20s 198ms/step - loss: 0.0291 - acc: 0.9900 - val_loss: 0.2417 - val_acc: 0.9350\n",
            "Epoch 72/100\n",
            "100/100 [==============================] - 20s 199ms/step - loss: 0.0314 - acc: 0.9895 - val_loss: 0.2121 - val_acc: 0.9350\n",
            "Epoch 73/100\n",
            "100/100 [==============================] - 20s 200ms/step - loss: 0.0257 - acc: 0.9905 - val_loss: 0.2881 - val_acc: 0.9350\n",
            "Epoch 74/100\n",
            "100/100 [==============================] - 20s 199ms/step - loss: 0.0283 - acc: 0.9885 - val_loss: 0.2200 - val_acc: 0.9370\n",
            "Epoch 75/100\n",
            "100/100 [==============================] - 20s 198ms/step - loss: 0.0211 - acc: 0.9920 - val_loss: 0.2036 - val_acc: 0.9400\n",
            "Epoch 76/100\n",
            "100/100 [==============================] - 20s 198ms/step - loss: 0.0228 - acc: 0.9945 - val_loss: 0.3934 - val_acc: 0.9240\n",
            "Epoch 77/100\n",
            "100/100 [==============================] - 20s 203ms/step - loss: 0.0215 - acc: 0.9915 - val_loss: 0.2627 - val_acc: 0.9360\n",
            "Epoch 78/100\n",
            "100/100 [==============================] - 20s 199ms/step - loss: 0.0330 - acc: 0.9905 - val_loss: 0.2346 - val_acc: 0.9380\n",
            "Epoch 79/100\n",
            "100/100 [==============================] - 20s 198ms/step - loss: 0.0236 - acc: 0.9930 - val_loss: 0.2199 - val_acc: 0.9360\n",
            "Epoch 80/100\n",
            "100/100 [==============================] - 20s 198ms/step - loss: 0.0257 - acc: 0.9925 - val_loss: 0.2064 - val_acc: 0.9390\n",
            "Epoch 81/100\n",
            "100/100 [==============================] - 20s 199ms/step - loss: 0.0354 - acc: 0.9850 - val_loss: 0.2110 - val_acc: 0.9400\n",
            "Epoch 82/100\n",
            "100/100 [==============================] - 20s 198ms/step - loss: 0.0198 - acc: 0.9930 - val_loss: 0.2358 - val_acc: 0.9380\n",
            "Epoch 83/100\n",
            "100/100 [==============================] - 20s 200ms/step - loss: 0.0253 - acc: 0.9940 - val_loss: 0.2939 - val_acc: 0.9330\n",
            "Epoch 84/100\n",
            "100/100 [==============================] - 20s 199ms/step - loss: 0.0214 - acc: 0.9950 - val_loss: 0.2268 - val_acc: 0.9420\n",
            "Epoch 85/100\n",
            "100/100 [==============================] - 20s 199ms/step - loss: 0.0101 - acc: 0.9975 - val_loss: 0.2343 - val_acc: 0.9390\n",
            "Epoch 86/100\n",
            "100/100 [==============================] - 20s 198ms/step - loss: 0.0198 - acc: 0.9925 - val_loss: 0.2399 - val_acc: 0.9430\n",
            "Epoch 87/100\n",
            "100/100 [==============================] - 20s 198ms/step - loss: 0.0224 - acc: 0.9925 - val_loss: 0.3631 - val_acc: 0.9290\n",
            "Epoch 88/100\n",
            "100/100 [==============================] - 20s 198ms/step - loss: 0.0175 - acc: 0.9930 - val_loss: 0.2589 - val_acc: 0.9460\n",
            "Epoch 89/100\n",
            "100/100 [==============================] - 20s 199ms/step - loss: 0.0181 - acc: 0.9955 - val_loss: 0.2509 - val_acc: 0.9380\n",
            "Epoch 90/100\n",
            "100/100 [==============================] - 20s 199ms/step - loss: 0.0222 - acc: 0.9905 - val_loss: 0.2567 - val_acc: 0.9420\n",
            "Epoch 91/100\n",
            "100/100 [==============================] - 20s 199ms/step - loss: 0.0246 - acc: 0.9890 - val_loss: 0.2911 - val_acc: 0.9400\n",
            "Epoch 92/100\n",
            "100/100 [==============================] - 20s 200ms/step - loss: 0.0180 - acc: 0.9915 - val_loss: 0.2463 - val_acc: 0.9400\n",
            "Epoch 93/100\n",
            "100/100 [==============================] - 20s 199ms/step - loss: 0.0250 - acc: 0.9905 - val_loss: 0.2611 - val_acc: 0.9400\n",
            "Epoch 94/100\n",
            "100/100 [==============================] - 20s 199ms/step - loss: 0.0164 - acc: 0.9940 - val_loss: 0.3780 - val_acc: 0.9300\n",
            "Epoch 95/100\n",
            "100/100 [==============================] - 20s 200ms/step - loss: 0.0148 - acc: 0.9950 - val_loss: 0.2500 - val_acc: 0.9420\n",
            "Epoch 96/100\n",
            "100/100 [==============================] - 20s 201ms/step - loss: 0.0146 - acc: 0.9955 - val_loss: 0.2848 - val_acc: 0.9410\n",
            "Epoch 97/100\n",
            "100/100 [==============================] - 20s 199ms/step - loss: 0.0193 - acc: 0.9945 - val_loss: 0.2826 - val_acc: 0.9420\n",
            "Epoch 98/100\n",
            "100/100 [==============================] - 20s 199ms/step - loss: 0.0181 - acc: 0.9930 - val_loss: 0.2384 - val_acc: 0.9380\n",
            "Epoch 99/100\n",
            "100/100 [==============================] - 20s 200ms/step - loss: 0.0194 - acc: 0.9920 - val_loss: 0.2246 - val_acc: 0.9440\n",
            "Epoch 100/100\n",
            "100/100 [==============================] - 20s 202ms/step - loss: 0.0240 - acc: 0.9930 - val_loss: 0.2460 - val_acc: 0.9450\n"
          ],
          "name": "stdout"
        }
      ]
    },
    {
      "cell_type": "code",
      "metadata": {
        "id": "kKGH908z7RRE",
        "colab_type": "code",
        "colab": {}
      },
      "source": [
        "model.save('cats_and_dogs_small_4.h5')"
      ],
      "execution_count": 0,
      "outputs": []
    },
    {
      "cell_type": "code",
      "metadata": {
        "id": "SlQ6JL856pp0",
        "colab_type": "code",
        "outputId": "75bd00b0-7b2e-4931-a139-a6f127716667",
        "colab": {
          "base_uri": "https://localhost:8080/",
          "height": 545
        }
      },
      "source": [
        "acc=history.history['acc']\n",
        "val_acc=history.history['val_acc']\n",
        "loss=history.history['loss']\n",
        "val_loss=history.history['val_loss']\n",
        "\n",
        "epochs=range(len(acc))\n",
        "plt.plot(epochs, acc, 'bo', label='Training acc')\n",
        "plt.plot(epochs, val_acc, 'b', label='Validation acc')\n",
        "plt.title('Training and validation accuracy')\n",
        "plt.legend()\n",
        "plt.figure()\n",
        "plt.plot(epochs, loss, 'bo', label='Training loss')\n",
        "plt.plot(epochs, val_loss, 'b', label='Validation loss')\n",
        "plt.title('Training and validation loss')\n",
        "plt.legend()\n",
        "plt.show()"
      ],
      "execution_count": 0,
      "outputs": [
        {
          "output_type": "display_data",
          "data": {
            "image/png": "[encoded data removed]",
            "text/plain": [
              "<Figure size 432x288 with 1 Axes>"
            ]
          },
          "metadata": {
            "tags": []
          }
        },
        {
          "output_type": "display_data",
          "data": {
            "image/png": "[encoded data removed]",
            "text/plain": [
              "<Figure size 432x288 with 1 Axes>"
            ]
          },
          "metadata": {
            "tags": []
          }
        }
      ]
    },
    {
      "cell_type": "code",
      "metadata": {
        "id": "xaC0I21n63nu",
        "colab_type": "code",
        "outputId": "f17108da-1432-4a25-d812-c7a8ad71a941",
        "colab": {
          "base_uri": "https://localhost:8080/",
          "height": 545
        }
      },
      "source": [
        "def smooth_curve(points, factor=0.8):\n",
        "  smoothed_points = []\n",
        "  for point in points:\n",
        "    if smoothed_points:\n",
        "      previous = smoothed_points[-1]\n",
        "      smoothed_points.append(previous * factor + point * (1 - factor))\n",
        "    else:\n",
        "      smoothed_points.append(point)\n",
        "  return smoothed_points\n",
        "plt.plot(epochs,\n",
        "smooth_curve(acc), 'bo', label='Smoothed training acc')\n",
        "plt.plot(epochs,\n",
        "smooth_curve(val_acc), 'b', label='Smoothed validation acc')\n",
        "plt.title('Training and validation accuracy')\n",
        "plt.legend()\n",
        "plt.figure()\n",
        "plt.plot(epochs,\n",
        "smooth_curve(loss), 'bo', label='Smoothed training loss')\n",
        "plt.plot(epochs,\n",
        "smooth_curve(val_loss), 'b', label='Smoothed validation loss')\n",
        "plt.title('Training and validation loss')\n",
        "plt.legend()\n",
        "plt.show()"
      ],
      "execution_count": 0,
      "outputs": [
        {
          "output_type": "display_data",
          "data": {
            "image/png": "[encoded data removed]",
            "text/plain": [
              "<Figure size 432x288 with 1 Axes>"
            ]
          },
          "metadata": {
            "tags": []
          }
        },
        {
          "output_type": "display_data",
          "data": {
            "image/png": "[encoded data removed]",
            "text/plain": [
              "<Figure size 432x288 with 1 Axes>"
            ]
          },
          "metadata": {
            "tags": []
          }
        }
      ]
    },
    {
      "cell_type": "code",
      "metadata": {
        "id": "ORgmzJaN7XMJ",
        "colab_type": "code",
        "outputId": "072a54f4-954b-4045-af94-28db61eb1a5c",
        "colab": {
          "base_uri": "https://localhost:8080/",
          "height": 51
        }
      },
      "source": [
        "test_generator = test_datagen.flow_from_directory(\n",
        "test_dir,\n",
        "target_size=(150, 150),\n",
        "batch_size=20,\n",
        "class_mode='binary')\n",
        "test_loss, test_acc = model.evaluate_generator(test_generator, steps=50)\n",
        "print('test acc:', test_acc)"
      ],
      "execution_count": 0,
      "outputs": [
        {
          "output_type": "stream",
          "text": [
            "Found 1000 images belonging to 2 classes.\n",
            "test acc: 0.9399999940395355\n"
          ],
          "name": "stdout"
        }
      ]
    },
    {
      "cell_type": "code",
      "metadata": {
        "id": "R1NJtVOXJF66",
        "colab_type": "code",
        "colab": {}
      },
      "source": [
        " "
      ],
      "execution_count": 0,
      "outputs": []
    }
  ]
}