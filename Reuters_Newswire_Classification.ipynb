{
  "nbformat": 4,
  "nbformat_minor": 0,
  "metadata": {
    "colab": {
      "name": "Reuters Newswire Classification",
      "provenance": [],
      "include_colab_link": true
    },
    "kernelspec": {
      "name": "python3",
      "display_name": "Python 3"
    }
  },
  "cells": [
    {
      "cell_type": "markdown",
      "metadata": {
        "id": "view-in-github",
        "colab_type": "text"
      },
      "source": [
        "<a href=\"https://colab.research.google.com/github/avi-007/Deep-Learning-Work/blob/master/Reuters_Newswire_Classification.ipynb\" target=\"_parent\"><img src=\"https://colab.research.google.com/assets/colab-badge.svg\" alt=\"Open In Colab\"/></a>"
      ]
    },
    {
      "cell_type": "code",
      "metadata": {
        "id": "bCsEA8lwI4RS",
        "colab_type": "code",
        "outputId": "a0ca7add-b26c-43ce-b02d-3579febedb56",
        "colab": {
          "base_uri": "https://localhost:8080/",
          "height": 114
        }
      },
      "source": [
        "from keras.datasets import reuters\n",
        "(train_data,train_labels),(test_data,test_labels)=reuters.load_data(num_words=10000)"
      ],
      "execution_count": 0,
      "outputs": [
        {
          "output_type": "stream",
          "text": [
            "Using TensorFlow backend.\n"
          ],
          "name": "stderr"
        },
        {
          "output_type": "display_data",
          "data": {
            "text/html": [
              "<p style=\"color: red;\">\n",
              "The default version of TensorFlow in Colab will soon switch to TensorFlow 2.x.<br>\n",
              "We recommend you <a href=\"https://www.tensorflow.org/guide/migrate\" target=\"_blank\">upgrade</a> now \n",
              "or ensure your notebook will continue to use TensorFlow 1.x via the <code>%tensorflow_version 1.x</code> magic:\n",
              "<a href=\"https://colab.research.google.com/notebooks/tensorflow_version.ipynb\" target=\"_blank\">more info</a>.</p>\n"
            ],
            "text/plain": [
              "<IPython.core.display.HTML object>"
            ]
          },
          "metadata": {
            "tags": []
          }
        },
        {
          "output_type": "stream",
          "text": [
            "Downloading data from https://s3.amazonaws.com/text-datasets/reuters.npz\n",
            "2113536/2110848 [==============================] - 1s 0us/step\n"
          ],
          "name": "stdout"
        }
      ]
    },
    {
      "cell_type": "code",
      "metadata": {
        "id": "Yfd2KT_gJr2j",
        "colab_type": "code",
        "outputId": "c99f06a9-5659-4919-a11f-4ca6938d25b9",
        "colab": {
          "base_uri": "https://localhost:8080/",
          "height": 34
        }
      },
      "source": [
        "len(train_data)"
      ],
      "execution_count": 0,
      "outputs": [
        {
          "output_type": "execute_result",
          "data": {
            "text/plain": [
              "8982"
            ]
          },
          "metadata": {
            "tags": []
          },
          "execution_count": 2
        }
      ]
    },
    {
      "cell_type": "code",
      "metadata": {
        "id": "FCSXooaHJu6i",
        "colab_type": "code",
        "outputId": "9aebfdce-7164-46d4-c7f8-37656403c2da",
        "colab": {
          "base_uri": "https://localhost:8080/",
          "height": 34
        }
      },
      "source": [
        "len(test_data)"
      ],
      "execution_count": 0,
      "outputs": [
        {
          "output_type": "execute_result",
          "data": {
            "text/plain": [
              "2246"
            ]
          },
          "metadata": {
            "tags": []
          },
          "execution_count": 3
        }
      ]
    },
    {
      "cell_type": "code",
      "metadata": {
        "id": "TNQ_s-u8KD5O",
        "colab_type": "code",
        "outputId": "f18211e1-ff87-473b-c0ff-f0a870df63cb",
        "colab": {
          "base_uri": "https://localhost:8080/",
          "height": 1000
        }
      },
      "source": [
        "word_index = reuters.get_word_index()\n",
        "reverse_word_index = dict([(value, key) for (key, value) in word_index.items()])\n",
        "decoded_newswire = ' '.join([reverse_word_index.get(i - 3, '?') for i in train_data[0]])\n",
        "print(decoded_newswire)\n",
        "test_data[0]"
      ],
      "execution_count": 0,
      "outputs": [
        {
          "output_type": "stream",
          "text": [
            "? ? ? said as a result of its december acquisition of space co it expects earnings per share in 1987 of 1 15 to 1 30 dlrs per share up from 70 cts in 1986 the company said pretax net should rise to nine to 10 mln dlrs from six mln dlrs in 1986 and rental operation revenues to 19 to 22 mln dlrs from 12 5 mln dlrs it said cash flow per share this year should be 2 50 to three dlrs reuter 3\n"
          ],
          "name": "stdout"
        },
        {
          "output_type": "execute_result",
          "data": {
            "text/plain": [
              "[1,\n",
              " 4,\n",
              " 1378,\n",
              " 2025,\n",
              " 9,\n",
              " 697,\n",
              " 4622,\n",
              " 111,\n",
              " 8,\n",
              " 25,\n",
              " 109,\n",
              " 29,\n",
              " 3650,\n",
              " 11,\n",
              " 150,\n",
              " 244,\n",
              " 364,\n",
              " 33,\n",
              " 30,\n",
              " 30,\n",
              " 1398,\n",
              " 333,\n",
              " 6,\n",
              " 2,\n",
              " 159,\n",
              " 9,\n",
              " 1084,\n",
              " 363,\n",
              " 13,\n",
              " 2,\n",
              " 71,\n",
              " 9,\n",
              " 2,\n",
              " 71,\n",
              " 117,\n",
              " 4,\n",
              " 225,\n",
              " 78,\n",
              " 206,\n",
              " 10,\n",
              " 9,\n",
              " 1214,\n",
              " 8,\n",
              " 4,\n",
              " 270,\n",
              " 5,\n",
              " 2,\n",
              " 7,\n",
              " 748,\n",
              " 48,\n",
              " 9,\n",
              " 2,\n",
              " 7,\n",
              " 207,\n",
              " 1451,\n",
              " 966,\n",
              " 1864,\n",
              " 793,\n",
              " 97,\n",
              " 133,\n",
              " 336,\n",
              " 7,\n",
              " 4,\n",
              " 493,\n",
              " 98,\n",
              " 273,\n",
              " 104,\n",
              " 284,\n",
              " 25,\n",
              " 39,\n",
              " 338,\n",
              " 22,\n",
              " 905,\n",
              " 220,\n",
              " 3465,\n",
              " 644,\n",
              " 59,\n",
              " 20,\n",
              " 6,\n",
              " 119,\n",
              " 61,\n",
              " 11,\n",
              " 15,\n",
              " 58,\n",
              " 579,\n",
              " 26,\n",
              " 10,\n",
              " 67,\n",
              " 7,\n",
              " 4,\n",
              " 738,\n",
              " 98,\n",
              " 43,\n",
              " 88,\n",
              " 333,\n",
              " 722,\n",
              " 12,\n",
              " 20,\n",
              " 6,\n",
              " 19,\n",
              " 746,\n",
              " 35,\n",
              " 15,\n",
              " 10,\n",
              " 9,\n",
              " 1214,\n",
              " 855,\n",
              " 129,\n",
              " 783,\n",
              " 21,\n",
              " 4,\n",
              " 2280,\n",
              " 244,\n",
              " 364,\n",
              " 51,\n",
              " 16,\n",
              " 299,\n",
              " 452,\n",
              " 16,\n",
              " 515,\n",
              " 4,\n",
              " 99,\n",
              " 29,\n",
              " 5,\n",
              " 4,\n",
              " 364,\n",
              " 281,\n",
              " 48,\n",
              " 10,\n",
              " 9,\n",
              " 1214,\n",
              " 23,\n",
              " 644,\n",
              " 47,\n",
              " 20,\n",
              " 324,\n",
              " 27,\n",
              " 56,\n",
              " 2,\n",
              " 2,\n",
              " 5,\n",
              " 192,\n",
              " 510,\n",
              " 17,\n",
              " 12]"
            ]
          },
          "metadata": {
            "tags": []
          },
          "execution_count": 10
        }
      ]
    },
    {
      "cell_type": "code",
      "metadata": {
        "id": "CdelSTqBLGLP",
        "colab_type": "code",
        "colab": {}
      },
      "source": [
        "from keras.utils.np_utils import to_categorical\n",
        "one_hot_train_labels = to_categorical(train_labels)\n",
        "one_hot_test_labels = to_categorical(test_labels)"
      ],
      "execution_count": 0,
      "outputs": []
    },
    {
      "cell_type": "code",
      "metadata": {
        "id": "VJO60WXEL9QD",
        "colab_type": "code",
        "colab": {}
      },
      "source": [
        "from keras import models\n",
        "from keras import layers\n",
        "\n",
        "model=models.Sequential()\n",
        "model.add(layers.Dense(64,activation='relu',input_shape=(10000,)))\n",
        "model.add(layers.Dense(64,activation='relu'))\n",
        "model.add(layers.Dense(46,activation='softmax'))"
      ],
      "execution_count": 0,
      "outputs": []
    },
    {
      "cell_type": "code",
      "metadata": {
        "id": "iJprbg14NqFF",
        "colab_type": "code",
        "colab": {}
      },
      "source": [
        "model.compile(optimizer='rmsprop',\n",
        "              loss='categorical_crossentropy',\n",
        "              metrics=['accuracy'])"
      ],
      "execution_count": 0,
      "outputs": []
    },
    {
      "cell_type": "code",
      "metadata": {
        "id": "BzyOOVfAOE5E",
        "colab_type": "code",
        "colab": {}
      },
      "source": [
        "x_val = x_train[:1000]\n",
        "partial_x_train = x_train[1000:]\n",
        "y_val = one_hot_train_labels[:1000]\n",
        "partial_y_train = one_hot_train_labels[1000:]"
      ],
      "execution_count": 0,
      "outputs": []
    },
    {
      "cell_type": "code",
      "metadata": {
        "id": "sQ4iP6R-OQ2L",
        "colab_type": "code",
        "outputId": "271ff66f-7ad7-43d0-8c0b-0f6b0d6ead78",
        "colab": {
          "base_uri": "https://localhost:8080/",
          "height": 1000
        }
      },
      "source": [
        "history = model.fit(partial_x_train,\n",
        "partial_y_train,\n",
        "epochs=20,\n",
        "batch_size=512,\n",
        "validation_data=(x_val, y_val))"
      ],
      "execution_count": 0,
      "outputs": [
        {
          "output_type": "stream",
          "text": [
            "WARNING:tensorflow:From /usr/local/lib/python3.6/dist-packages/tensorflow_core/python/ops/math_grad.py:1424: where (from tensorflow.python.ops.array_ops) is deprecated and will be removed in a future version.\n",
            "Instructions for updating:\n",
            "Use tf.where in 2.0, which has the same broadcast rule as np.where\n",
            "WARNING:tensorflow:From /usr/local/lib/python3.6/dist-packages/keras/backend/tensorflow_backend.py:1033: The name tf.assign_add is deprecated. Please use tf.compat.v1.assign_add instead.\n",
            "\n",
            "WARNING:tensorflow:From /usr/local/lib/python3.6/dist-packages/keras/backend/tensorflow_backend.py:1020: The name tf.assign is deprecated. Please use tf.compat.v1.assign instead.\n",
            "\n",
            "WARNING:tensorflow:From /usr/local/lib/python3.6/dist-packages/keras/backend/tensorflow_backend.py:3005: The name tf.Session is deprecated. Please use tf.compat.v1.Session instead.\n",
            "\n",
            "Train on 7982 samples, validate on 1000 samples\n",
            "Epoch 1/20\n",
            "WARNING:tensorflow:From /usr/local/lib/python3.6/dist-packages/keras/backend/tensorflow_backend.py:190: The name tf.get_default_session is deprecated. Please use tf.compat.v1.get_default_session instead.\n",
            "\n",
            "WARNING:tensorflow:From /usr/local/lib/python3.6/dist-packages/keras/backend/tensorflow_backend.py:197: The name tf.ConfigProto is deprecated. Please use tf.compat.v1.ConfigProto instead.\n",
            "\n",
            "WARNING:tensorflow:From /usr/local/lib/python3.6/dist-packages/keras/backend/tensorflow_backend.py:207: The name tf.global_variables is deprecated. Please use tf.compat.v1.global_variables instead.\n",
            "\n",
            "WARNING:tensorflow:From /usr/local/lib/python3.6/dist-packages/keras/backend/tensorflow_backend.py:216: The name tf.is_variable_initialized is deprecated. Please use tf.compat.v1.is_variable_initialized instead.\n",
            "\n",
            "WARNING:tensorflow:From /usr/local/lib/python3.6/dist-packages/keras/backend/tensorflow_backend.py:223: The name tf.variables_initializer is deprecated. Please use tf.compat.v1.variables_initializer instead.\n",
            "\n",
            "7982/7982 [==============================] - 2s 239us/step - loss: 2.5028 - acc: 0.5457 - val_loss: 1.6580 - val_acc: 0.6270\n",
            "Epoch 2/20\n",
            "7982/7982 [==============================] - 1s 121us/step - loss: 1.3610 - acc: 0.7144 - val_loss: 1.2839 - val_acc: 0.7180\n",
            "Epoch 3/20\n",
            "7982/7982 [==============================] - 1s 121us/step - loss: 1.0168 - acc: 0.7785 - val_loss: 1.1295 - val_acc: 0.7710\n",
            "Epoch 4/20\n",
            "7982/7982 [==============================] - 1s 123us/step - loss: 0.7996 - acc: 0.8310 - val_loss: 1.0147 - val_acc: 0.7830\n",
            "Epoch 5/20\n",
            "7982/7982 [==============================] - 1s 124us/step - loss: 0.6319 - acc: 0.8688 - val_loss: 0.9681 - val_acc: 0.8050\n",
            "Epoch 6/20\n",
            "7982/7982 [==============================] - 1s 127us/step - loss: 0.4988 - acc: 0.8989 - val_loss: 0.9548 - val_acc: 0.7870\n",
            "Epoch 7/20\n",
            "7982/7982 [==============================] - 1s 124us/step - loss: 0.4022 - acc: 0.9131 - val_loss: 0.9031 - val_acc: 0.8190\n",
            "Epoch 8/20\n",
            "7982/7982 [==============================] - 1s 123us/step - loss: 0.3307 - acc: 0.9292 - val_loss: 0.8672 - val_acc: 0.8240\n",
            "Epoch 9/20\n",
            "7982/7982 [==============================] - 1s 122us/step - loss: 0.2734 - acc: 0.9390 - val_loss: 0.8755 - val_acc: 0.8220\n",
            "Epoch 10/20\n",
            "7982/7982 [==============================] - 1s 121us/step - loss: 0.2308 - acc: 0.9465 - val_loss: 0.9114 - val_acc: 0.8080\n",
            "Epoch 11/20\n",
            "7982/7982 [==============================] - 1s 122us/step - loss: 0.2040 - acc: 0.9494 - val_loss: 0.9293 - val_acc: 0.8070\n",
            "Epoch 12/20\n",
            "7982/7982 [==============================] - 1s 123us/step - loss: 0.1823 - acc: 0.9514 - val_loss: 0.9419 - val_acc: 0.8120\n",
            "Epoch 13/20\n",
            "7982/7982 [==============================] - 1s 123us/step - loss: 0.1610 - acc: 0.9544 - val_loss: 0.9267 - val_acc: 0.8170\n",
            "Epoch 14/20\n",
            "7982/7982 [==============================] - 1s 122us/step - loss: 0.1506 - acc: 0.9533 - val_loss: 0.9907 - val_acc: 0.8090\n",
            "Epoch 15/20\n",
            "7982/7982 [==============================] - 1s 123us/step - loss: 0.1452 - acc: 0.9543 - val_loss: 0.9852 - val_acc: 0.8140\n",
            "Epoch 16/20\n",
            "7982/7982 [==============================] - 1s 123us/step - loss: 0.1309 - acc: 0.9563 - val_loss: 0.9902 - val_acc: 0.8150\n",
            "Epoch 17/20\n",
            "7982/7982 [==============================] - 1s 124us/step - loss: 0.1280 - acc: 0.9562 - val_loss: 1.0420 - val_acc: 0.8090\n",
            "Epoch 18/20\n",
            "7982/7982 [==============================] - 1s 121us/step - loss: 0.1240 - acc: 0.9560 - val_loss: 1.0460 - val_acc: 0.8150\n",
            "Epoch 19/20\n",
            "7982/7982 [==============================] - 1s 120us/step - loss: 0.1141 - acc: 0.9573 - val_loss: 1.0515 - val_acc: 0.8100\n",
            "Epoch 20/20\n",
            "7982/7982 [==============================] - 1s 124us/step - loss: 0.1171 - acc: 0.9574 - val_loss: 1.0781 - val_acc: 0.8120\n"
          ],
          "name": "stdout"
        }
      ]
    },
    {
      "cell_type": "code",
      "metadata": {
        "id": "2KJcjQ_8OdCT",
        "colab_type": "code",
        "outputId": "93f0b16a-e458-437d-b134-6bc1af3d85e8",
        "colab": {
          "base_uri": "https://localhost:8080/",
          "height": 295
        }
      },
      "source": [
        "import matplotlib.pyplot as plt\n",
        "loss = history.history['loss']\n",
        "val_loss = history.history['val_loss']\n",
        "epochs = range(1, len(loss) + 1)\n",
        "plt.plot(epochs, loss, 'bo', label='Training loss')\n",
        "plt.plot(epochs, val_loss, 'b', label='Validation loss')\n",
        "plt.title('Training and validation loss')\n",
        "plt.xlabel('Epochs')\n",
        "plt.ylabel('Loss')\n",
        "plt.legend()\n",
        "plt.show()"
      ],
      "execution_count": 0,
      "outputs": [
        {
          "output_type": "display_data",
          "data": {
            "image/png": "[encoded data removed]",
            "text/plain": [
              "<Figure size 432x288 with 1 Axes>"
            ]
          },
          "metadata": {
            "tags": []
          }
        }
      ]
    },
    {
      "cell_type": "code",
      "metadata": {
        "id": "5Cgo7-7KOnDg",
        "colab_type": "code",
        "outputId": "92f3c2e5-a2ad-4900-ac25-08f56aedded5",
        "colab": {
          "base_uri": "https://localhost:8080/",
          "height": 295
        }
      },
      "source": [
        "plt.clf()\n",
        "acc = history.history['acc']\n",
        "val_acc = history.history['val_acc']\n",
        "plt.plot(epochs, acc, 'bo', label='Training acc')\n",
        "plt.plot(epochs, val_acc, 'b', label='Validation acc')\n",
        "plt.title('Training and validation accuracy')\n",
        "plt.xlabel('Epochs')\n",
        "plt.ylabel('Loss')\n",
        "plt.legend()\n",
        "plt.show()"
      ],
      "execution_count": 0,
      "outputs": [
        {
          "output_type": "display_data",
          "data": {
            "image/png": "[encoded data removed]",
            "text/plain": [
              "<Figure size 432x288 with 1 Axes>"
            ]
          },
          "metadata": {
            "tags": []
          }
        }
      ]
    },
    {
      "cell_type": "code",
      "metadata": {
        "id": "_-6zH0T7PIPI",
        "colab_type": "code",
        "outputId": "2253c358-bf3a-484a-87a0-e673e6d461fd",
        "colab": {
          "base_uri": "https://localhost:8080/",
          "height": 357
        }
      },
      "source": [
        "model = models.Sequential()\n",
        "model.add(layers.Dense(64, activation='relu', input_shape=(10000,)))\n",
        "model.add(layers.Dense(64, activation='relu'))\n",
        "model.add(layers.Dense(46, activation='softmax'))\n",
        "model.compile(optimizer='rmsprop',\n",
        "loss='categorical_crossentropy',\n",
        "metrics=['accuracy'])\n",
        "model.fit(partial_x_train,\n",
        "partial_y_train,\n",
        "epochs=9,\n",
        "batch_size=512,\n",
        "validation_data=(x_val, y_val))\n",
        "results = model.evaluate(x_test, one_hot_test_labels)"
      ],
      "execution_count": 0,
      "outputs": [
        {
          "output_type": "stream",
          "text": [
            "Train on 7982 samples, validate on 1000 samples\n",
            "Epoch 1/9\n",
            "7982/7982 [==============================] - 1s 150us/step - loss: 2.6307 - acc: 0.5030 - val_loss: 1.7280 - val_acc: 0.6460\n",
            "Epoch 2/9\n",
            "7982/7982 [==============================] - 1s 124us/step - loss: 1.3889 - acc: 0.7174 - val_loss: 1.2782 - val_acc: 0.7250\n",
            "Epoch 3/9\n",
            "7982/7982 [==============================] - 1s 123us/step - loss: 1.0188 - acc: 0.7830 - val_loss: 1.1139 - val_acc: 0.7520\n",
            "Epoch 4/9\n",
            "7982/7982 [==============================] - 1s 122us/step - loss: 0.8032 - acc: 0.8241 - val_loss: 1.0062 - val_acc: 0.7960\n",
            "Epoch 5/9\n",
            "7982/7982 [==============================] - 1s 123us/step - loss: 0.6343 - acc: 0.8628 - val_loss: 0.9702 - val_acc: 0.7940\n",
            "Epoch 6/9\n",
            "7982/7982 [==============================] - 1s 124us/step - loss: 0.5116 - acc: 0.8900 - val_loss: 0.9329 - val_acc: 0.8060\n",
            "Epoch 7/9\n",
            "7982/7982 [==============================] - 1s 123us/step - loss: 0.4079 - acc: 0.9163 - val_loss: 0.9166 - val_acc: 0.8030\n",
            "Epoch 8/9\n",
            "7982/7982 [==============================] - 1s 125us/step - loss: 0.3335 - acc: 0.9282 - val_loss: 0.9003 - val_acc: 0.8080\n",
            "Epoch 9/9\n",
            "7982/7982 [==============================] - 1s 123us/step - loss: 0.2792 - acc: 0.9370 - val_loss: 0.9288 - val_acc: 0.8100\n",
            "2246/2246 [==============================] - 0s 92us/step\n"
          ],
          "name": "stdout"
        }
      ]
    },
    {
      "cell_type": "code",
      "metadata": {
        "id": "0YSop03rPMdc",
        "colab_type": "code",
        "outputId": "d348b4e8-84cb-4427-e69c-b3f8402a72b3",
        "colab": {
          "base_uri": "https://localhost:8080/",
          "height": 34
        }
      },
      "source": [
        "results"
      ],
      "execution_count": 0,
      "outputs": [
        {
          "output_type": "execute_result",
          "data": {
            "text/plain": [
              "[0.9886955437868277, 0.7853962600178095]"
            ]
          },
          "metadata": {
            "tags": []
          },
          "execution_count": 28
        }
      ]
    },
    {
      "cell_type": "code",
      "metadata": {
        "id": "nEua-UpPPPwX",
        "colab_type": "code",
        "outputId": "fcaec71d-0e2b-4ed3-9f9c-a8f612f1a153",
        "colab": {
          "base_uri": "https://localhost:8080/",
          "height": 34
        }
      },
      "source": [
        "predictions = model.predict(x_test)\n",
        "predictions[0].shape"
      ],
      "execution_count": 0,
      "outputs": [
        {
          "output_type": "execute_result",
          "data": {
            "text/plain": [
              "(46,)"
            ]
          },
          "metadata": {
            "tags": []
          },
          "execution_count": 31
        }
      ]
    },
    {
      "cell_type": "code",
      "metadata": {
        "id": "-6bYLcXYPm8l",
        "colab_type": "code",
        "outputId": "87e75041-b93c-4644-e8de-ac7853bd9688",
        "colab": {
          "base_uri": "https://localhost:8080/",
          "height": 238
        }
      },
      "source": [
        "model.predict(x_test)"
      ],
      "execution_count": 0,
      "outputs": [
        {
          "output_type": "execute_result",
          "data": {
            "text/plain": [
              "array([[2.8541961e-04, 8.9381050e-05, 5.5851169e-06, ..., 1.6978025e-05,\n",
              "        1.4889626e-07, 4.9350077e-05],\n",
              "       [7.7624884e-03, 4.9215761e-01, 1.3086600e-03, ..., 2.7510778e-06,\n",
              "        8.1896357e-04, 1.3923083e-03],\n",
              "       [1.0818259e-03, 8.1565440e-01, 2.5967413e-04, ..., 8.0124475e-05,\n",
              "        3.1533229e-04, 5.4545677e-04],\n",
              "       ...,\n",
              "       [2.3176422e-04, 9.6773692e-05, 2.5787360e-05, ..., 6.5999906e-05,\n",
              "        1.2639640e-06, 1.3120405e-04],\n",
              "       [5.9896149e-03, 6.9522634e-02, 1.5816166e-03, ..., 2.6666401e-03,\n",
              "        3.9281230e-04, 3.3222402e-03],\n",
              "       [2.7518460e-04, 9.0817517e-01, 8.3335373e-04, ..., 5.6494184e-05,\n",
              "        2.3300289e-04, 3.7671215e-04]], dtype=float32)"
            ]
          },
          "metadata": {
            "tags": []
          },
          "execution_count": 32
        }
      ]
    }
  ]
}